{
 "cells": [
  {
   "cell_type": "code",
   "execution_count": 1,
   "metadata": {},
   "outputs": [
    {
     "name": "stdout",
     "output_type": "stream",
     "text": [
      "Requirement already satisfied: ollama in /home/km/anaconda3/envs/crewai/lib/python3.11/site-packages (0.1.8)\n",
      "Requirement already satisfied: langchain in /home/km/anaconda3/envs/crewai/lib/python3.11/site-packages (0.1.16)\n",
      "Requirement already satisfied: beautifulsoup4 in /home/km/anaconda3/envs/crewai/lib/python3.11/site-packages (4.12.3)\n",
      "Requirement already satisfied: chromadb in /home/km/anaconda3/envs/crewai/lib/python3.11/site-packages (0.4.24)\n",
      "Requirement already satisfied: gradio in /home/km/anaconda3/envs/crewai/lib/python3.11/site-packages (4.27.0)\n",
      "Requirement already satisfied: httpx<0.28.0,>=0.27.0 in /home/km/anaconda3/envs/crewai/lib/python3.11/site-packages (from ollama) (0.27.0)\n",
      "Requirement already satisfied: PyYAML>=5.3 in /home/km/anaconda3/envs/crewai/lib/python3.11/site-packages (from langchain) (6.0.1)\n",
      "Requirement already satisfied: SQLAlchemy<3,>=1.4 in /home/km/anaconda3/envs/crewai/lib/python3.11/site-packages (from langchain) (2.0.29)\n",
      "Requirement already satisfied: aiohttp<4.0.0,>=3.8.3 in /home/km/anaconda3/envs/crewai/lib/python3.11/site-packages (from langchain) (3.9.5)\n",
      "Requirement already satisfied: dataclasses-json<0.7,>=0.5.7 in /home/km/anaconda3/envs/crewai/lib/python3.11/site-packages (from langchain) (0.6.4)\n",
      "Requirement already satisfied: jsonpatch<2.0,>=1.33 in /home/km/anaconda3/envs/crewai/lib/python3.11/site-packages (from langchain) (1.33)\n",
      "Requirement already satisfied: langchain-community<0.1,>=0.0.32 in /home/km/anaconda3/envs/crewai/lib/python3.11/site-packages (from langchain) (0.0.34)\n",
      "Requirement already satisfied: langchain-core<0.2.0,>=0.1.42 in /home/km/anaconda3/envs/crewai/lib/python3.11/site-packages (from langchain) (0.1.45)\n",
      "Requirement already satisfied: langchain-text-splitters<0.1,>=0.0.1 in /home/km/anaconda3/envs/crewai/lib/python3.11/site-packages (from langchain) (0.0.1)\n",
      "Requirement already satisfied: langsmith<0.2.0,>=0.1.17 in /home/km/anaconda3/envs/crewai/lib/python3.11/site-packages (from langchain) (0.1.49)\n",
      "Requirement already satisfied: numpy<2,>=1 in /home/km/anaconda3/envs/crewai/lib/python3.11/site-packages (from langchain) (1.26.4)\n",
      "Requirement already satisfied: pydantic<3,>=1 in /home/km/anaconda3/envs/crewai/lib/python3.11/site-packages (from langchain) (2.7.0)\n",
      "Requirement already satisfied: requests<3,>=2 in /home/km/anaconda3/envs/crewai/lib/python3.11/site-packages (from langchain) (2.31.0)\n",
      "Requirement already satisfied: tenacity<9.0.0,>=8.1.0 in /home/km/anaconda3/envs/crewai/lib/python3.11/site-packages (from langchain) (8.2.3)\n",
      "Requirement already satisfied: soupsieve>1.2 in /home/km/anaconda3/envs/crewai/lib/python3.11/site-packages (from beautifulsoup4) (2.5)\n",
      "Requirement already satisfied: build>=1.0.3 in /home/km/anaconda3/envs/crewai/lib/python3.11/site-packages (from chromadb) (1.2.1)\n",
      "Requirement already satisfied: chroma-hnswlib==0.7.3 in /home/km/anaconda3/envs/crewai/lib/python3.11/site-packages (from chromadb) (0.7.3)\n",
      "Requirement already satisfied: fastapi>=0.95.2 in /home/km/anaconda3/envs/crewai/lib/python3.11/site-packages (from chromadb) (0.110.2)\n",
      "Requirement already satisfied: uvicorn>=0.18.3 in /home/km/anaconda3/envs/crewai/lib/python3.11/site-packages (from uvicorn[standard]>=0.18.3->chromadb) (0.29.0)\n",
      "Requirement already satisfied: posthog>=2.4.0 in /home/km/anaconda3/envs/crewai/lib/python3.11/site-packages (from chromadb) (3.5.0)\n",
      "Requirement already satisfied: typing-extensions>=4.5.0 in /home/km/anaconda3/envs/crewai/lib/python3.11/site-packages (from chromadb) (4.11.0)\n",
      "Requirement already satisfied: pulsar-client>=3.1.0 in /home/km/anaconda3/envs/crewai/lib/python3.11/site-packages (from chromadb) (3.5.0)\n",
      "Requirement already satisfied: onnxruntime>=1.14.1 in /home/km/anaconda3/envs/crewai/lib/python3.11/site-packages (from chromadb) (1.17.3)\n",
      "Requirement already satisfied: opentelemetry-api>=1.2.0 in /home/km/anaconda3/envs/crewai/lib/python3.11/site-packages (from chromadb) (1.24.0)\n",
      "Requirement already satisfied: opentelemetry-exporter-otlp-proto-grpc>=1.2.0 in /home/km/anaconda3/envs/crewai/lib/python3.11/site-packages (from chromadb) (1.24.0)\n",
      "Requirement already satisfied: opentelemetry-instrumentation-fastapi>=0.41b0 in /home/km/anaconda3/envs/crewai/lib/python3.11/site-packages (from chromadb) (0.45b0)\n",
      "Requirement already satisfied: opentelemetry-sdk>=1.2.0 in /home/km/anaconda3/envs/crewai/lib/python3.11/site-packages (from chromadb) (1.24.0)\n",
      "Requirement already satisfied: tokenizers>=0.13.2 in /home/km/anaconda3/envs/crewai/lib/python3.11/site-packages (from chromadb) (0.19.1)\n",
      "Requirement already satisfied: pypika>=0.48.9 in /home/km/anaconda3/envs/crewai/lib/python3.11/site-packages (from chromadb) (0.48.9)\n",
      "Requirement already satisfied: tqdm>=4.65.0 in /home/km/anaconda3/envs/crewai/lib/python3.11/site-packages (from chromadb) (4.66.2)\n",
      "Requirement already satisfied: overrides>=7.3.1 in /home/km/anaconda3/envs/crewai/lib/python3.11/site-packages (from chromadb) (7.7.0)\n",
      "Requirement already satisfied: importlib-resources in /home/km/anaconda3/envs/crewai/lib/python3.11/site-packages (from chromadb) (6.4.0)\n",
      "Requirement already satisfied: grpcio>=1.58.0 in /home/km/anaconda3/envs/crewai/lib/python3.11/site-packages (from chromadb) (1.62.2)\n",
      "Requirement already satisfied: bcrypt>=4.0.1 in /home/km/anaconda3/envs/crewai/lib/python3.11/site-packages (from chromadb) (4.1.2)\n",
      "Requirement already satisfied: typer>=0.9.0 in /home/km/anaconda3/envs/crewai/lib/python3.11/site-packages (from chromadb) (0.12.3)\n",
      "Requirement already satisfied: kubernetes>=28.1.0 in /home/km/anaconda3/envs/crewai/lib/python3.11/site-packages (from chromadb) (29.0.0)\n",
      "Requirement already satisfied: mmh3>=4.0.1 in /home/km/anaconda3/envs/crewai/lib/python3.11/site-packages (from chromadb) (4.1.0)\n",
      "Requirement already satisfied: orjson>=3.9.12 in /home/km/anaconda3/envs/crewai/lib/python3.11/site-packages (from chromadb) (3.10.1)\n",
      "Requirement already satisfied: aiofiles<24.0,>=22.0 in /home/km/anaconda3/envs/crewai/lib/python3.11/site-packages (from gradio) (23.2.1)\n",
      "Requirement already satisfied: altair<6.0,>=4.2.0 in /home/km/anaconda3/envs/crewai/lib/python3.11/site-packages (from gradio) (5.3.0)\n",
      "Requirement already satisfied: ffmpy in /home/km/anaconda3/envs/crewai/lib/python3.11/site-packages (from gradio) (0.3.2)\n",
      "Requirement already satisfied: gradio-client==0.15.1 in /home/km/anaconda3/envs/crewai/lib/python3.11/site-packages (from gradio) (0.15.1)\n",
      "Requirement already satisfied: huggingface-hub>=0.19.3 in /home/km/anaconda3/envs/crewai/lib/python3.11/site-packages (from gradio) (0.22.2)\n",
      "Requirement already satisfied: jinja2<4.0 in /home/km/anaconda3/envs/crewai/lib/python3.11/site-packages (from gradio) (3.1.3)\n",
      "Requirement already satisfied: markupsafe~=2.0 in /home/km/anaconda3/envs/crewai/lib/python3.11/site-packages (from gradio) (2.1.5)\n",
      "Requirement already satisfied: matplotlib~=3.0 in /home/km/anaconda3/envs/crewai/lib/python3.11/site-packages (from gradio) (3.8.4)\n",
      "Requirement already satisfied: packaging in /home/km/anaconda3/envs/crewai/lib/python3.11/site-packages (from gradio) (23.2)\n",
      "Requirement already satisfied: pandas<3.0,>=1.0 in /home/km/anaconda3/envs/crewai/lib/python3.11/site-packages (from gradio) (2.2.2)\n",
      "Requirement already satisfied: pillow<11.0,>=8.0 in /home/km/anaconda3/envs/crewai/lib/python3.11/site-packages (from gradio) (10.3.0)\n",
      "Requirement already satisfied: pydub in /home/km/anaconda3/envs/crewai/lib/python3.11/site-packages (from gradio) (0.25.1)\n",
      "Requirement already satisfied: python-multipart>=0.0.9 in /home/km/anaconda3/envs/crewai/lib/python3.11/site-packages (from gradio) (0.0.9)\n",
      "Requirement already satisfied: ruff>=0.2.2 in /home/km/anaconda3/envs/crewai/lib/python3.11/site-packages (from gradio) (0.4.1)\n",
      "Requirement already satisfied: semantic-version~=2.0 in /home/km/anaconda3/envs/crewai/lib/python3.11/site-packages (from gradio) (2.10.0)\n",
      "Requirement already satisfied: tomlkit==0.12.0 in /home/km/anaconda3/envs/crewai/lib/python3.11/site-packages (from gradio) (0.12.0)\n",
      "Requirement already satisfied: urllib3~=2.0 in /home/km/anaconda3/envs/crewai/lib/python3.11/site-packages (from gradio) (2.2.1)\n",
      "Requirement already satisfied: fsspec in /home/km/anaconda3/envs/crewai/lib/python3.11/site-packages (from gradio-client==0.15.1->gradio) (2024.3.1)\n",
      "Requirement already satisfied: websockets<12.0,>=10.0 in /home/km/anaconda3/envs/crewai/lib/python3.11/site-packages (from gradio-client==0.15.1->gradio) (11.0.3)\n",
      "Requirement already satisfied: aiosignal>=1.1.2 in /home/km/anaconda3/envs/crewai/lib/python3.11/site-packages (from aiohttp<4.0.0,>=3.8.3->langchain) (1.3.1)\n",
      "Requirement already satisfied: attrs>=17.3.0 in /home/km/anaconda3/envs/crewai/lib/python3.11/site-packages (from aiohttp<4.0.0,>=3.8.3->langchain) (23.2.0)\n",
      "Requirement already satisfied: frozenlist>=1.1.1 in /home/km/anaconda3/envs/crewai/lib/python3.11/site-packages (from aiohttp<4.0.0,>=3.8.3->langchain) (1.4.1)\n",
      "Requirement already satisfied: multidict<7.0,>=4.5 in /home/km/anaconda3/envs/crewai/lib/python3.11/site-packages (from aiohttp<4.0.0,>=3.8.3->langchain) (6.0.5)\n",
      "Requirement already satisfied: yarl<2.0,>=1.0 in /home/km/anaconda3/envs/crewai/lib/python3.11/site-packages (from aiohttp<4.0.0,>=3.8.3->langchain) (1.9.4)\n",
      "Requirement already satisfied: jsonschema>=3.0 in /home/km/anaconda3/envs/crewai/lib/python3.11/site-packages (from altair<6.0,>=4.2.0->gradio) (4.21.1)\n",
      "Requirement already satisfied: toolz in /home/km/anaconda3/envs/crewai/lib/python3.11/site-packages (from altair<6.0,>=4.2.0->gradio) (0.12.1)\n",
      "Requirement already satisfied: pyproject_hooks in /home/km/anaconda3/envs/crewai/lib/python3.11/site-packages (from build>=1.0.3->chromadb) (1.0.0)\n",
      "Requirement already satisfied: marshmallow<4.0.0,>=3.18.0 in /home/km/anaconda3/envs/crewai/lib/python3.11/site-packages (from dataclasses-json<0.7,>=0.5.7->langchain) (3.21.1)\n",
      "Requirement already satisfied: typing-inspect<1,>=0.4.0 in /home/km/anaconda3/envs/crewai/lib/python3.11/site-packages (from dataclasses-json<0.7,>=0.5.7->langchain) (0.9.0)\n",
      "Requirement already satisfied: starlette<0.38.0,>=0.37.2 in /home/km/anaconda3/envs/crewai/lib/python3.11/site-packages (from fastapi>=0.95.2->chromadb) (0.37.2)\n",
      "Requirement already satisfied: anyio in /home/km/anaconda3/envs/crewai/lib/python3.11/site-packages (from httpx<0.28.0,>=0.27.0->ollama) (4.3.0)\n",
      "Requirement already satisfied: certifi in /home/km/anaconda3/envs/crewai/lib/python3.11/site-packages (from httpx<0.28.0,>=0.27.0->ollama) (2024.2.2)\n",
      "Requirement already satisfied: httpcore==1.* in /home/km/anaconda3/envs/crewai/lib/python3.11/site-packages (from httpx<0.28.0,>=0.27.0->ollama) (1.0.5)\n",
      "Requirement already satisfied: idna in /home/km/anaconda3/envs/crewai/lib/python3.11/site-packages (from httpx<0.28.0,>=0.27.0->ollama) (3.7)\n",
      "Requirement already satisfied: sniffio in /home/km/anaconda3/envs/crewai/lib/python3.11/site-packages (from httpx<0.28.0,>=0.27.0->ollama) (1.3.1)\n",
      "Requirement already satisfied: h11<0.15,>=0.13 in /home/km/anaconda3/envs/crewai/lib/python3.11/site-packages (from httpcore==1.*->httpx<0.28.0,>=0.27.0->ollama) (0.14.0)\n",
      "Requirement already satisfied: filelock in /home/km/anaconda3/envs/crewai/lib/python3.11/site-packages (from huggingface-hub>=0.19.3->gradio) (3.13.4)\n",
      "Requirement already satisfied: jsonpointer>=1.9 in /home/km/anaconda3/envs/crewai/lib/python3.11/site-packages (from jsonpatch<2.0,>=1.33->langchain) (2.4)\n",
      "Requirement already satisfied: six>=1.9.0 in /home/km/anaconda3/envs/crewai/lib/python3.11/site-packages (from kubernetes>=28.1.0->chromadb) (1.16.0)\n",
      "Requirement already satisfied: python-dateutil>=2.5.3 in /home/km/anaconda3/envs/crewai/lib/python3.11/site-packages (from kubernetes>=28.1.0->chromadb) (2.9.0)\n",
      "Requirement already satisfied: google-auth>=1.0.1 in /home/km/anaconda3/envs/crewai/lib/python3.11/site-packages (from kubernetes>=28.1.0->chromadb) (2.29.0)\n",
      "Requirement already satisfied: websocket-client!=0.40.0,!=0.41.*,!=0.42.*,>=0.32.0 in /home/km/anaconda3/envs/crewai/lib/python3.11/site-packages (from kubernetes>=28.1.0->chromadb) (1.7.0)\n",
      "Requirement already satisfied: requests-oauthlib in /home/km/anaconda3/envs/crewai/lib/python3.11/site-packages (from kubernetes>=28.1.0->chromadb) (2.0.0)\n",
      "Requirement already satisfied: oauthlib>=3.2.2 in /home/km/anaconda3/envs/crewai/lib/python3.11/site-packages (from kubernetes>=28.1.0->chromadb) (3.2.2)\n",
      "Requirement already satisfied: contourpy>=1.0.1 in /home/km/anaconda3/envs/crewai/lib/python3.11/site-packages (from matplotlib~=3.0->gradio) (1.2.1)\n",
      "Requirement already satisfied: cycler>=0.10 in /home/km/anaconda3/envs/crewai/lib/python3.11/site-packages (from matplotlib~=3.0->gradio) (0.12.1)\n",
      "Requirement already satisfied: fonttools>=4.22.0 in /home/km/anaconda3/envs/crewai/lib/python3.11/site-packages (from matplotlib~=3.0->gradio) (4.51.0)\n",
      "Requirement already satisfied: kiwisolver>=1.3.1 in /home/km/anaconda3/envs/crewai/lib/python3.11/site-packages (from matplotlib~=3.0->gradio) (1.4.5)\n",
      "Requirement already satisfied: pyparsing>=2.3.1 in /home/km/anaconda3/envs/crewai/lib/python3.11/site-packages (from matplotlib~=3.0->gradio) (3.1.2)\n",
      "Requirement already satisfied: coloredlogs in /home/km/anaconda3/envs/crewai/lib/python3.11/site-packages (from onnxruntime>=1.14.1->chromadb) (15.0.1)\n",
      "Requirement already satisfied: flatbuffers in /home/km/anaconda3/envs/crewai/lib/python3.11/site-packages (from onnxruntime>=1.14.1->chromadb) (24.3.25)\n",
      "Requirement already satisfied: protobuf in /home/km/anaconda3/envs/crewai/lib/python3.11/site-packages (from onnxruntime>=1.14.1->chromadb) (4.25.3)\n",
      "Requirement already satisfied: sympy in /home/km/anaconda3/envs/crewai/lib/python3.11/site-packages (from onnxruntime>=1.14.1->chromadb) (1.12)\n",
      "Requirement already satisfied: deprecated>=1.2.6 in /home/km/anaconda3/envs/crewai/lib/python3.11/site-packages (from opentelemetry-api>=1.2.0->chromadb) (1.2.14)\n",
      "Requirement already satisfied: importlib-metadata<=7.0,>=6.0 in /home/km/anaconda3/envs/crewai/lib/python3.11/site-packages (from opentelemetry-api>=1.2.0->chromadb) (7.0.0)\n",
      "Requirement already satisfied: googleapis-common-protos~=1.52 in /home/km/anaconda3/envs/crewai/lib/python3.11/site-packages (from opentelemetry-exporter-otlp-proto-grpc>=1.2.0->chromadb) (1.63.0)\n",
      "Requirement already satisfied: opentelemetry-exporter-otlp-proto-common==1.24.0 in /home/km/anaconda3/envs/crewai/lib/python3.11/site-packages (from opentelemetry-exporter-otlp-proto-grpc>=1.2.0->chromadb) (1.24.0)\n",
      "Requirement already satisfied: opentelemetry-proto==1.24.0 in /home/km/anaconda3/envs/crewai/lib/python3.11/site-packages (from opentelemetry-exporter-otlp-proto-grpc>=1.2.0->chromadb) (1.24.0)\n",
      "Requirement already satisfied: opentelemetry-instrumentation-asgi==0.45b0 in /home/km/anaconda3/envs/crewai/lib/python3.11/site-packages (from opentelemetry-instrumentation-fastapi>=0.41b0->chromadb) (0.45b0)\n",
      "Requirement already satisfied: opentelemetry-instrumentation==0.45b0 in /home/km/anaconda3/envs/crewai/lib/python3.11/site-packages (from opentelemetry-instrumentation-fastapi>=0.41b0->chromadb) (0.45b0)\n",
      "Requirement already satisfied: opentelemetry-semantic-conventions==0.45b0 in /home/km/anaconda3/envs/crewai/lib/python3.11/site-packages (from opentelemetry-instrumentation-fastapi>=0.41b0->chromadb) (0.45b0)\n",
      "Requirement already satisfied: opentelemetry-util-http==0.45b0 in /home/km/anaconda3/envs/crewai/lib/python3.11/site-packages (from opentelemetry-instrumentation-fastapi>=0.41b0->chromadb) (0.45b0)\n",
      "Requirement already satisfied: setuptools>=16.0 in /home/km/anaconda3/envs/crewai/lib/python3.11/site-packages (from opentelemetry-instrumentation==0.45b0->opentelemetry-instrumentation-fastapi>=0.41b0->chromadb) (68.2.2)\n",
      "Requirement already satisfied: wrapt<2.0.0,>=1.0.0 in /home/km/anaconda3/envs/crewai/lib/python3.11/site-packages (from opentelemetry-instrumentation==0.45b0->opentelemetry-instrumentation-fastapi>=0.41b0->chromadb) (1.16.0)\n",
      "Requirement already satisfied: asgiref~=3.0 in /home/km/anaconda3/envs/crewai/lib/python3.11/site-packages (from opentelemetry-instrumentation-asgi==0.45b0->opentelemetry-instrumentation-fastapi>=0.41b0->chromadb) (3.8.1)\n",
      "Requirement already satisfied: pytz>=2020.1 in /home/km/anaconda3/envs/crewai/lib/python3.11/site-packages (from pandas<3.0,>=1.0->gradio) (2024.1)\n",
      "Requirement already satisfied: tzdata>=2022.7 in /home/km/anaconda3/envs/crewai/lib/python3.11/site-packages (from pandas<3.0,>=1.0->gradio) (2024.1)\n",
      "Requirement already satisfied: monotonic>=1.5 in /home/km/anaconda3/envs/crewai/lib/python3.11/site-packages (from posthog>=2.4.0->chromadb) (1.6)\n",
      "Requirement already satisfied: backoff>=1.10.0 in /home/km/anaconda3/envs/crewai/lib/python3.11/site-packages (from posthog>=2.4.0->chromadb) (2.2.1)\n",
      "Requirement already satisfied: annotated-types>=0.4.0 in /home/km/anaconda3/envs/crewai/lib/python3.11/site-packages (from pydantic<3,>=1->langchain) (0.6.0)\n",
      "Requirement already satisfied: pydantic-core==2.18.1 in /home/km/anaconda3/envs/crewai/lib/python3.11/site-packages (from pydantic<3,>=1->langchain) (2.18.1)\n",
      "Requirement already satisfied: charset-normalizer<4,>=2 in /home/km/anaconda3/envs/crewai/lib/python3.11/site-packages (from requests<3,>=2->langchain) (3.3.2)\n",
      "Requirement already satisfied: greenlet!=0.4.17 in /home/km/anaconda3/envs/crewai/lib/python3.11/site-packages (from SQLAlchemy<3,>=1.4->langchain) (3.0.3)\n",
      "Requirement already satisfied: click>=8.0.0 in /home/km/anaconda3/envs/crewai/lib/python3.11/site-packages (from typer>=0.9.0->chromadb) (8.1.7)\n",
      "Requirement already satisfied: shellingham>=1.3.0 in /home/km/anaconda3/envs/crewai/lib/python3.11/site-packages (from typer>=0.9.0->chromadb) (1.5.4)\n",
      "Requirement already satisfied: rich>=10.11.0 in /home/km/anaconda3/envs/crewai/lib/python3.11/site-packages (from typer>=0.9.0->chromadb) (13.7.1)\n",
      "Requirement already satisfied: httptools>=0.5.0 in /home/km/anaconda3/envs/crewai/lib/python3.11/site-packages (from uvicorn[standard]>=0.18.3->chromadb) (0.6.1)\n",
      "Requirement already satisfied: python-dotenv>=0.13 in /home/km/anaconda3/envs/crewai/lib/python3.11/site-packages (from uvicorn[standard]>=0.18.3->chromadb) (1.0.0)\n",
      "Requirement already satisfied: uvloop!=0.15.0,!=0.15.1,>=0.14.0 in /home/km/anaconda3/envs/crewai/lib/python3.11/site-packages (from uvicorn[standard]>=0.18.3->chromadb) (0.19.0)\n",
      "Requirement already satisfied: watchfiles>=0.13 in /home/km/anaconda3/envs/crewai/lib/python3.11/site-packages (from uvicorn[standard]>=0.18.3->chromadb) (0.21.0)\n",
      "Requirement already satisfied: cachetools<6.0,>=2.0.0 in /home/km/anaconda3/envs/crewai/lib/python3.11/site-packages (from google-auth>=1.0.1->kubernetes>=28.1.0->chromadb) (5.3.3)\n",
      "Requirement already satisfied: pyasn1-modules>=0.2.1 in /home/km/anaconda3/envs/crewai/lib/python3.11/site-packages (from google-auth>=1.0.1->kubernetes>=28.1.0->chromadb) (0.4.0)\n",
      "Requirement already satisfied: rsa<5,>=3.1.4 in /home/km/anaconda3/envs/crewai/lib/python3.11/site-packages (from google-auth>=1.0.1->kubernetes>=28.1.0->chromadb) (4.9)\n",
      "Requirement already satisfied: zipp>=0.5 in /home/km/anaconda3/envs/crewai/lib/python3.11/site-packages (from importlib-metadata<=7.0,>=6.0->opentelemetry-api>=1.2.0->chromadb) (3.17.0)\n",
      "Requirement already satisfied: jsonschema-specifications>=2023.03.6 in /home/km/anaconda3/envs/crewai/lib/python3.11/site-packages (from jsonschema>=3.0->altair<6.0,>=4.2.0->gradio) (2023.12.1)\n",
      "Requirement already satisfied: referencing>=0.28.4 in /home/km/anaconda3/envs/crewai/lib/python3.11/site-packages (from jsonschema>=3.0->altair<6.0,>=4.2.0->gradio) (0.35.0)\n",
      "Requirement already satisfied: rpds-py>=0.7.1 in /home/km/anaconda3/envs/crewai/lib/python3.11/site-packages (from jsonschema>=3.0->altair<6.0,>=4.2.0->gradio) (0.18.0)\n",
      "Requirement already satisfied: markdown-it-py>=2.2.0 in /home/km/anaconda3/envs/crewai/lib/python3.11/site-packages (from rich>=10.11.0->typer>=0.9.0->chromadb) (3.0.0)\n",
      "Requirement already satisfied: pygments<3.0.0,>=2.13.0 in /home/km/anaconda3/envs/crewai/lib/python3.11/site-packages (from rich>=10.11.0->typer>=0.9.0->chromadb) (2.17.2)\n",
      "Requirement already satisfied: mypy-extensions>=0.3.0 in /home/km/anaconda3/envs/crewai/lib/python3.11/site-packages (from typing-inspect<1,>=0.4.0->dataclasses-json<0.7,>=0.5.7->langchain) (1.0.0)\n",
      "Requirement already satisfied: humanfriendly>=9.1 in /home/km/anaconda3/envs/crewai/lib/python3.11/site-packages (from coloredlogs->onnxruntime>=1.14.1->chromadb) (10.0)\n",
      "Requirement already satisfied: mpmath>=0.19 in /home/km/anaconda3/envs/crewai/lib/python3.11/site-packages (from sympy->onnxruntime>=1.14.1->chromadb) (1.3.0)\n",
      "Requirement already satisfied: mdurl~=0.1 in /home/km/anaconda3/envs/crewai/lib/python3.11/site-packages (from markdown-it-py>=2.2.0->rich>=10.11.0->typer>=0.9.0->chromadb) (0.1.2)\n",
      "Requirement already satisfied: pyasn1<0.7.0,>=0.4.6 in /home/km/anaconda3/envs/crewai/lib/python3.11/site-packages (from pyasn1-modules>=0.2.1->google-auth>=1.0.1->kubernetes>=28.1.0->chromadb) (0.6.0)\n",
      "Note: you may need to restart the kernel to use updated packages.\n"
     ]
    }
   ],
   "source": [
    "## Install Libraries \n",
    "pip install ollama langchain beautifulsoup4 chromadb gradio"
   ]
  },
  {
   "cell_type": "code",
   "execution_count": 1,
   "metadata": {},
   "outputs": [],
   "source": [
    "import ollama\n",
    "\n",
    "from langchain_community.vectorstores import Chroma\n",
    "from langchain_community.embeddings import OllamaEmbeddings\n",
    "\n",
    "import requests\n",
    "import urllib.request\n",
    "from bs4 import BeautifulSoup\n",
    "import pandas as pd\n",
    "import bs4\n",
    "\n",
    "import urllib.request\n",
    "\n",
    "from langchain.text_splitter import RecursiveCharacterTextSplitter\n",
    "from langchain_community.document_loaders import WebBaseLoader\n",
    "from langchain_community.vectorstores import Chroma\n",
    "\n",
    "from langchain_core.output_parsers import StrOutputParser\n",
    "from langchain_core.runnables import RunnablePassthrough\n",
    "\n",
    "import bs4\n",
    "from urllib.request import urlopen as request\n",
    "from bs4 import BeautifulSoup as soup\n",
    "from bs4 import SoupStrainer as strainer\n",
    "\n",
    "from bs4 import BeautifulSoup as soup\n",
    "from bs4 import SoupStrainer as strainer\n"
   ]
  },
  {
   "cell_type": "code",
   "execution_count": 3,
   "metadata": {},
   "outputs": [],
   "source": [
    "## Import url for the webpage to used\n",
    "\n",
    "url = ('https://www.consumerfinance.gov/rules-policy/regulations/1024/17/')\n"
   ]
  },
  {
   "cell_type": "code",
   "execution_count": 6,
   "metadata": {},
   "outputs": [],
   "source": [
    "## 1a0. - Make a Call to import data from URL\n",
    "\n",
    "client = request(url)\n",
    "\n",
    "page_html = client.read()\n",
    "\n",
    "# Create a SoupStrainer object to only parse p tags\n",
    "soup_strainer = strainer(\"p\")\n",
    "\n",
    "from bs4 import BeautifulSoup\n",
    "\n",
    "# Parse the HTML document using the SoupStrainer object\n",
    "soup = BeautifulSoup(page_html, \"html.parser\", parse_only=soup_strainer)"
   ]
  },
  {
   "cell_type": "code",
   "execution_count": 9,
   "metadata": {},
   "outputs": [],
   "source": [
    "## 1a. convert the web page data into text file\n",
    "\n",
    "master_data_2 = []\n",
    "\n",
    "with open(r'mortgage_1.txt', 'w') as fp:\n",
    "    \n",
    "    for data in soup.find_all(\"p\"):\n",
    "        \n",
    "        extract_text = data.get_text()\n",
    "        \n",
    "        master_data_2.append(extract_text)\n",
    "        \n",
    "        fp.write(\"%s\\n\" % extract_text)"
   ]
  },
  {
   "cell_type": "code",
   "execution_count": 10,
   "metadata": {},
   "outputs": [],
   "source": [
    "# 1b. Load text data from a file using TextLoader\n",
    "loader = TextLoader(\"./mortgage_1.txt\")\n",
    "document = loader.load()"
   ]
  },
  {
   "cell_type": "code",
   "execution_count": 11,
   "metadata": {},
   "outputs": [],
   "source": [
    "## 1c. Split the text into chunks\n",
    "\n",
    "text_splitter = RecursiveCharacterTextSplitter(chunk_size=1000, chunk_overlap=200)\n",
    "splits = text_splitter.split_documents(document)"
   ]
  },
  {
   "cell_type": "code",
   "execution_count": 12,
   "metadata": {},
   "outputs": [],
   "source": [
    "# 2. Create Ollama embeddings and vector store\n",
    "embeddings = OllamaEmbeddings(model=\"mistral\")"
   ]
  },
  {
   "cell_type": "code",
   "execution_count": 13,
   "metadata": {},
   "outputs": [],
   "source": [
    "# 2a. Define vectorstore \n",
    "vectorstore = Chroma.from_documents(documents=splits, embedding=embeddings)"
   ]
  },
  {
   "cell_type": "code",
   "execution_count": 14,
   "metadata": {},
   "outputs": [
    {
     "data": {
      "text/plain": [
       "<langchain_community.vectorstores.chroma.Chroma at 0x7fbd6ed40ad0>"
      ]
     },
     "execution_count": 14,
     "metadata": {},
     "output_type": "execute_result"
    }
   ],
   "source": [
    "vectorstore"
   ]
  },
  {
   "cell_type": "code",
   "execution_count": 15,
   "metadata": {},
   "outputs": [],
   "source": [
    "# 3. Call Ollama Llama3 model\n",
    "def ollama_llm(question, context):\n",
    "    formatted_prompt = f\"Question: {question}\\n\\nContext: {context}\"\n",
    "    response = ollama.chat(model='llama3', messages=[{'role': 'user', 'content': formatted_prompt}])\n",
    "    return response['message']['content']"
   ]
  },
  {
   "cell_type": "code",
   "execution_count": 16,
   "metadata": {},
   "outputs": [],
   "source": [
    "# 4. RAG Setup\n",
    "retriever = vectorstore.as_retriever()"
   ]
  },
  {
   "cell_type": "code",
   "execution_count": 17,
   "metadata": {},
   "outputs": [],
   "source": [
    "def combine_docs(docs):\n",
    "    return \"\\n\\n\".join(doc.page_content for doc in docs)"
   ]
  },
  {
   "cell_type": "code",
   "execution_count": 18,
   "metadata": {},
   "outputs": [],
   "source": [
    "def rag_chain(question):\n",
    "    retrieved_docs = retriever.invoke(question)\n",
    "    formatted_context = combine_docs(retrieved_docs)\n",
    "    return ollama_llm(question, formatted_context)"
   ]
  },
  {
   "cell_type": "code",
   "execution_count": 19,
   "metadata": {},
   "outputs": [],
   "source": [
    "# 5. Use the RAG App\n",
    "result = rag_chain(\"mortgage loan?\")"
   ]
  },
  {
   "cell_type": "code",
   "execution_count": 20,
   "metadata": {},
   "outputs": [
    {
     "data": {
      "text/plain": [
       "\"A mortgage loan refers to a type of loan where the property being purchased or refinanced serves as collateral for the loan. The loan allows the borrower to borrow money from a lender to finance the purchase or refinancing of a home, and the property is pledged as security for the loan.\\n\\nThe passage does not specifically discuss mortgage loans, but rather provides definitions and guidelines related to escrow accounts and disbursements. It appears that the context is focused on servicers' responsibilities in managing escrow accounts for borrowers with federally related mortgage loans.\""
      ]
     },
     "execution_count": 20,
     "metadata": {},
     "output_type": "execute_result"
    }
   ],
   "source": [
    "result"
   ]
  },
  {
   "cell_type": "code",
   "execution_count": 21,
   "metadata": {},
   "outputs": [
    {
     "name": "stdout",
     "output_type": "stream",
     "text": [
      "A mortgage loan refers to a type of loan where the property being purchased or refinanced serves as collateral for the loan. The loan allows the borrower to borrow money from a lender to finance the purchase or refinancing of a home, and the property is pledged as security for the loan.\n",
      "\n",
      "The passage does not specifically discuss mortgage loans, but rather provides definitions and guidelines related to escrow accounts and disbursements. It appears that the context is focused on servicers' responsibilities in managing escrow accounts for borrowers with federally related mortgage loans.\n"
     ]
    }
   ],
   "source": [
    "print(result)"
   ]
  },
  {
   "cell_type": "code",
   "execution_count": 22,
   "metadata": {},
   "outputs": [],
   "source": [
    "# 5. Use the RAG App\n",
    "result_2 = rag_chain(\"Escrow Account Disclosure?\")"
   ]
  },
  {
   "cell_type": "code",
   "execution_count": 23,
   "metadata": {},
   "outputs": [],
   "source": [
    "# 5. Use the RAG App\n",
    "result_3 = rag_chain(\"Annual escrow account statement?\")"
   ]
  },
  {
   "cell_type": "code",
   "execution_count": 24,
   "metadata": {},
   "outputs": [],
   "source": [
    "# 5. Use the RAG App\n",
    "result_4 = rag_chain(\"Escrow Account?\")"
   ]
  },
  {
   "cell_type": "code",
   "execution_count": 25,
   "metadata": {},
   "outputs": [],
   "source": [
    "# 5. Use the RAG App\n",
    "result_5 = rag_chain(\"Transfer of servicing\")"
   ]
  },
  {
   "cell_type": "code",
   "execution_count": 26,
   "metadata": {},
   "outputs": [],
   "source": [
    "# 5. Use the RAG App\n",
    "result_6 = rag_chain(\"shortage or deficiency in escrow account\")"
   ]
  },
  {
   "cell_type": "code",
   "execution_count": 35,
   "metadata": {},
   "outputs": [],
   "source": [
    "# 5. Use the RAG App\n",
    "result_7 = rag_chain(\"Submission at settlement, or within 45 calendar days of settlement\")"
   ]
  },
  {
   "cell_type": "code",
   "execution_count": 36,
   "metadata": {},
   "outputs": [],
   "source": [
    "# 5. Use the RAG App\n",
    "result_8 = rag_chain(\"Format for initial escrow account statement\")"
   ]
  },
  {
   "cell_type": "code",
   "execution_count": 37,
   "metadata": {},
   "outputs": [],
   "source": [
    "# 5. Use the RAG App\n",
    "result_9 = rag_chain(\"No annual statements in the case of default, foreclosure, or bankruptcy\")"
   ]
  },
  {
   "cell_type": "code",
   "execution_count": 38,
   "metadata": {},
   "outputs": [],
   "source": [
    "# 5. Use the RAG App\n",
    "result_10 = rag_chain(\"Timely payments\")"
   ]
  },
  {
   "cell_type": "code",
   "execution_count": 39,
   "metadata": {},
   "outputs": [],
   "source": [
    "# 5. Use the RAG App\n",
    "result_11 = rag_chain(\"TContents of annual escrow account statement.\")\n"
   ]
  },
  {
   "cell_type": "code",
   "execution_count": 27,
   "metadata": {},
   "outputs": [
    {
     "data": {
      "text/plain": [
       "'Escrow Account Disclosure refers to the requirement for mortgage servicers to provide annual statements to borrowers outlining the status of their escrow accounts. The disclosure must include information such as:\\n\\n1. The beginning and ending balances of the escrow account\\n2. The amounts paid into the escrow account during the year\\n3. The amounts disbursed from the escrow account for taxes, insurance premiums, and other charges\\n4. Any changes to the escrow account or payment schedule\\n5. A history of the account since the last annual statement (if the borrower becomes current after a period of default)\\n\\nThis disclosure is required by Regulation X of the Real Estate Settlement Procedures Act (RESPA) and is intended to help borrowers understand how their escrow accounts are being managed and to ensure that they are not overpaying or underpaying for property taxes and insurance premiums.'"
      ]
     },
     "execution_count": 27,
     "metadata": {},
     "output_type": "execute_result"
    }
   ],
   "source": [
    "result_2"
   ]
  },
  {
   "cell_type": "code",
   "execution_count": 28,
   "metadata": {},
   "outputs": [
    {
     "data": {
      "text/plain": [
       "'Annual Escrow Account Statement:\\n\\nThe annual escrow account statement is a required document that must be provided by the servicer to the borrower. The statement must include the following information:\\n\\n* The beginning and ending balances of the escrow account\\n* The total amount of funds in the escrow account during the previous year\\n* The disbursements made from the escrow account during the previous year, including the date and amount of each disbursement\\n* Any changes to the escrow account, such as the establishment or termination of a discretionary payment\\n\\nThe servicer must provide this statement to the borrower once a year, typically around the same time each year. The statement is intended to help the borrower understand how their escrow payments are being used and whether they need to make any adjustments to their payments.\\n\\nExemptions:\\n\\nThere are two exemptions from the requirement to provide an annual escrow account statement:\\n\\n* Default or foreclosure: If the borrower defaults on their loan or a foreclosure action is brought, the servicer is exempt from providing an annual statement.\\n* Bankruptcy: If the borrower is in bankruptcy proceedings, the servicer is also exempt from providing an annual statement.\\n\\nIf the servicer does not provide an annual statement and the loan subsequently becomes current, they must provide a history of the account since the last annual statement within 90 days of the date the account became current.'"
      ]
     },
     "execution_count": 28,
     "metadata": {},
     "output_type": "execute_result"
    }
   ],
   "source": [
    "result_3"
   ]
  },
  {
   "cell_type": "code",
   "execution_count": 29,
   "metadata": {},
   "outputs": [
    {
     "data": {
      "text/plain": [
       "'An Escrow Account is defined as any account that a servicer establishes or controls on behalf of a borrower to pay taxes, insurance premiums (including flood insurance), or other charges with respect to a federally related mortgage loan. This includes accounts established for this purpose, such as \"trust accounts\", \"reserve accounts\", \"impound accounts\", or other terms used in different localities. An Escrow Account excludes any account that is under the borrower\\'s total control.'"
      ]
     },
     "execution_count": 29,
     "metadata": {},
     "output_type": "execute_result"
    }
   ],
   "source": [
    "result_4"
   ]
  },
  {
   "cell_type": "code",
   "execution_count": 30,
   "metadata": {},
   "outputs": [
    {
     "data": {
      "text/plain": [
       "\"Transfer of servicing:\\n\\n* The servicer and borrower can enter into a voluntary agreement for the next escrow accounting year, allowing the borrower to make larger deposits than initially calculated.\\n* This agreement is only valid for one year, and a new agreement must be entered into after the next escrow analysis.\\n\\nShortages (less than 1 month's payment):\\n\\n* The servicer has three options:\\n\\t+ Allow the shortage to exist without changing it.\\n\\t+ Require the borrower to repay the shortage within 30 days.\\n\\t+ Require the borrower to repay the shortage in equal monthly payments over at least 12 months.\\n\\nShortages (1 month or more):\\n\\n* The servicer has two options:\\n\\t+ Allow the shortage to exist without changing it.\\n\\t+ Require the borrower to repay the shortage in equal monthly payments over at least 12 months.\\n\\nDeficiency:\\n\\n* If a deficiency is found, the servicer can require the borrower to make additional deposits to eliminate the deficiency.\\n* If the deficiency is less than one month's payment, the servicer has two options:\\n\\t+ Allow the deficiency to exist without changing it.\\n\\t+ Require the borrower to repay the deficiency in equal monthly payments over at least 12 months.\\n\\nMethods of escrow account analysis:\\n\\n* Aggregate analysis: The target balance may not exceed the calculated balance using specific arithmetic operations.\""
      ]
     },
     "execution_count": 30,
     "metadata": {},
     "output_type": "execute_result"
    }
   ],
   "source": [
    "result_5"
   ]
  },
  {
   "cell_type": "code",
   "execution_count": 40,
   "metadata": {},
   "outputs": [
    {
     "name": "stdout",
     "output_type": "stream",
     "text": [
      "According to this section, a \"shortage\" or \"deficiency\" in an escrow account refers to a situation where the funds held in the escrow account are insufficient to cover the estimated expenses and payments due during the next year.\n",
      "\n",
      "In other words, if the analysis shows that there is not enough money in the escrow account to meet the expected expenses and payments for the upcoming year, this is considered a shortage or deficiency.\n"
     ]
    }
   ],
   "source": [
    "print(result_6)"
   ]
  },
  {
   "cell_type": "code",
   "execution_count": 41,
   "metadata": {},
   "outputs": [
    {
     "name": "stdout",
     "output_type": "stream",
     "text": [
      "This text appears to be from Regulation X (RESPA), which is a federal regulation that governs real estate settlement procedures. The specific sections and paragraphs mentioned are related to escrow accounts, deficiencies, and disbursements for property taxes.\n",
      "\n",
      "Here's a breakdown of the main points:\n",
      "\n",
      "* Paragraphs (3) and (4): Discuss the requirements for calculating deficiencies in escrow accounts, including notice to borrowers and timing.\n",
      "* Paragraph (5): Requires servicers to notify borrowers if there is a shortage or deficiency in their escrow account.\n",
      "* Paragraph (g): Refers to the initial escrow account statement, which must be provided to borrowers within 30 days of settlement or by the next billing cycle.\n",
      "* Paragraph (l): Discusses discretionary payments, such as credit life insurance, and how they are handled in the escrow account.\n",
      "\n",
      "The other paragraphs not mentioned specifically are:\n",
      "\n",
      "* (1) Defines \"settlement service\" for purposes of this regulation.\n",
      "* (2) Requires servicers to maintain accurate records of escrow accounts and disbursements.\n",
      "* (3) Discusses annual escrow account statements, including required information and timing.\n",
      "* (4) Allows for mutual agreement between the borrower and servicer on a different disbursement basis or date for property taxes.\n",
      "* (5) Refers to timely payment of hazard insurance premiums.\n"
     ]
    }
   ],
   "source": [
    "print(result_7)"
   ]
  },
  {
   "cell_type": "code",
   "execution_count": 42,
   "metadata": {},
   "outputs": [
    {
     "name": "stdout",
     "output_type": "stream",
     "text": [
      "The format for initial escrow account statement according to RESPA Regulation X §10.24.17(i) is as follows:\n",
      "\n",
      "I. Initial Escrow Account Statement Requirements\n",
      "\n",
      "* The servicer must provide an initial escrow account statement to the borrower within 45 days of the borrower's initial payment date.\n",
      "* The statement must include:\n",
      "\t+ The amount of the borrower's monthly payment and how it was calculated.\n",
      "\t+ The estimated annual escrow payments for property taxes, insurance, and other charges.\n",
      "\t+ The estimated annual escrow surplus or shortage.\n",
      "\t+ A description of any escrow account analysis procedures used to determine the initial target balance.\n",
      "\n",
      "II. Initial Escrow Account Statement Disclosure\n",
      "\n",
      "* The servicer must disclose to the borrower:\n",
      "\t+ The method used to calculate the initial target balance, including any assumptions made and the source of any data used.\n",
      "\t+ Any changes in the estimated annual escrow payments or the estimated annual escrow surplus or shortage since the last annual statement.\n",
      "\n",
      "III. Initial Escrow Account Statement Timing\n",
      "\n",
      "* The servicer must provide the initial escrow account statement within 45 days of the borrower's initial payment date, which is typically when the loan is closed and the borrower begins making mortgage payments.\n",
      "* If the borrower makes an initial payment before the loan is closed, the servicer may delay providing the initial escrow account statement until after the loan is closed.\n",
      "\n",
      "IV. Initial Escrow Account Statement Content\n",
      "\n",
      "* The initial escrow account statement must include:\n",
      "\t+ A description of the escrow account and how it works.\n",
      "\t+ An explanation of the borrower's rights and responsibilities regarding the escrow account, including any penalties or fees associated with shortages or surpluses.\n",
      "\t+ Contact information for the servicer, including a phone number and mailing address.\n"
     ]
    }
   ],
   "source": [
    "print(result_8)"
   ]
  },
  {
   "cell_type": "code",
   "execution_count": 43,
   "metadata": {},
   "outputs": [
    {
     "name": "stdout",
     "output_type": "stream",
     "text": [
      "The answer is:\n",
      "\n",
      "No annual statements are required in the case of default, foreclosure, or bankruptcy.\n"
     ]
    }
   ],
   "source": [
    "print(result_9)"
   ]
  },
  {
   "cell_type": "code",
   "execution_count": 44,
   "metadata": {},
   "outputs": [
    {
     "name": "stdout",
     "output_type": "stream",
     "text": [
      "Timely payments refer to the payment of mortgage insurance premiums and other escrow account funds in accordance with the terms of the federally related mortgage loan and applicable federal or state laws.\n",
      "\n",
      "In this context, timely payments are:\n",
      "\n",
      "* Payments made by the borrower on a regular schedule, such as monthly or annually, as part of their mortgage obligations.\n",
      "* Payments that are not delinquent or past due, meaning they are made before the due date or within the allowed grace period.\n",
      "\n",
      "The regulation emphasizes the importance of timely payments in ensuring that the escrow account is properly funded and that surplus funds are handled according to the requirements outlined in the RESPA regulations.\n"
     ]
    }
   ],
   "source": [
    "print(result_10)\n"
   ]
  },
  {
   "cell_type": "code",
   "execution_count": 45,
   "metadata": {},
   "outputs": [
    {
     "name": "stdout",
     "output_type": "stream",
     "text": [
      "Based on the provided text, here are some key points regarding the contents of annual escrow account statements:\n",
      "\n",
      "1. Annual statement exemption: The servicer does not need to submit an annual escrow account statement if the borrower is more than 30 days overdue or in a situation where foreclosure proceedings have begun.\n",
      "2. Statement content: The statement should include:\n",
      "\t* A computation of the current escrow account balance and whether it is sufficient or insufficient\n",
      "\t* Information on any shortage or surplus\n",
      "\t* Any changes to the escrow account since the previous statement\n",
      "3. Additional information: If a discretionary payment is made, it should be noted on the initial and annual statements.\n",
      "4. Timing: The servicer must provide an annual escrow account statement within 30 days of conducting the escrow analysis.\n",
      "\n",
      "The provided text also defines key terms related to escrow accounts, such as:\n",
      "\n",
      "1. Shortage: An amount by which a current escrow account balance falls short of the target balance at the time of escrow analysis.\n",
      "2. Single-item analysis: A method for computing the sufficiency of escrow account funds by considering each escrow item separately.\n",
      "3. Submission: The delivery of an escrow account statement.\n",
      "4. Surplus: An amount by which the current escrow account balance exceeds the target balance for the account.\n",
      "5. System of recordkeeping: The servicer's method of keeping information that reflects the facts relating to their handling of the borrower's escrow account.\n",
      "\n",
      "Let me know if you have any further questions!\n"
     ]
    }
   ],
   "source": [
    "print(result_11)\n"
   ]
  },
  {
   "cell_type": "code",
   "execution_count": 31,
   "metadata": {},
   "outputs": [
    {
     "name": "stdout",
     "output_type": "stream",
     "text": [
      "Escrow Account Disclosure refers to the requirement for mortgage servicers to provide annual statements to borrowers outlining the status of their escrow accounts. The disclosure must include information such as:\n",
      "\n",
      "1. The beginning and ending balances of the escrow account\n",
      "2. The amounts paid into the escrow account during the year\n",
      "3. The amounts disbursed from the escrow account for taxes, insurance premiums, and other charges\n",
      "4. Any changes to the escrow account or payment schedule\n",
      "5. A history of the account since the last annual statement (if the borrower becomes current after a period of default)\n",
      "\n",
      "This disclosure is required by Regulation X of the Real Estate Settlement Procedures Act (RESPA) and is intended to help borrowers understand how their escrow accounts are being managed and to ensure that they are not overpaying or underpaying for property taxes and insurance premiums.\n"
     ]
    }
   ],
   "source": [
    "print(result_2)"
   ]
  },
  {
   "cell_type": "code",
   "execution_count": 32,
   "metadata": {},
   "outputs": [
    {
     "name": "stdout",
     "output_type": "stream",
     "text": [
      "Annual Escrow Account Statement:\n",
      "\n",
      "The annual escrow account statement is a required document that must be provided by the servicer to the borrower. The statement must include the following information:\n",
      "\n",
      "* The beginning and ending balances of the escrow account\n",
      "* The total amount of funds in the escrow account during the previous year\n",
      "* The disbursements made from the escrow account during the previous year, including the date and amount of each disbursement\n",
      "* Any changes to the escrow account, such as the establishment or termination of a discretionary payment\n",
      "\n",
      "The servicer must provide this statement to the borrower once a year, typically around the same time each year. The statement is intended to help the borrower understand how their escrow payments are being used and whether they need to make any adjustments to their payments.\n",
      "\n",
      "Exemptions:\n",
      "\n",
      "There are two exemptions from the requirement to provide an annual escrow account statement:\n",
      "\n",
      "* Default or foreclosure: If the borrower defaults on their loan or a foreclosure action is brought, the servicer is exempt from providing an annual statement.\n",
      "* Bankruptcy: If the borrower is in bankruptcy proceedings, the servicer is also exempt from providing an annual statement.\n",
      "\n",
      "If the servicer does not provide an annual statement and the loan subsequently becomes current, they must provide a history of the account since the last annual statement within 90 days of the date the account became current.\n"
     ]
    }
   ],
   "source": [
    "print(result_3)"
   ]
  },
  {
   "cell_type": "code",
   "execution_count": 33,
   "metadata": {},
   "outputs": [
    {
     "name": "stdout",
     "output_type": "stream",
     "text": [
      "An Escrow Account is defined as any account that a servicer establishes or controls on behalf of a borrower to pay taxes, insurance premiums (including flood insurance), or other charges with respect to a federally related mortgage loan. This includes accounts established for this purpose, such as \"trust accounts\", \"reserve accounts\", \"impound accounts\", or other terms used in different localities. An Escrow Account excludes any account that is under the borrower's total control.\n"
     ]
    }
   ],
   "source": [
    "print(result_4)"
   ]
  },
  {
   "cell_type": "code",
   "execution_count": 34,
   "metadata": {},
   "outputs": [
    {
     "name": "stdout",
     "output_type": "stream",
     "text": [
      "Transfer of servicing:\n",
      "\n",
      "* The servicer and borrower can enter into a voluntary agreement for the next escrow accounting year, allowing the borrower to make larger deposits than initially calculated.\n",
      "* This agreement is only valid for one year, and a new agreement must be entered into after the next escrow analysis.\n",
      "\n",
      "Shortages (less than 1 month's payment):\n",
      "\n",
      "* The servicer has three options:\n",
      "\t+ Allow the shortage to exist without changing it.\n",
      "\t+ Require the borrower to repay the shortage within 30 days.\n",
      "\t+ Require the borrower to repay the shortage in equal monthly payments over at least 12 months.\n",
      "\n",
      "Shortages (1 month or more):\n",
      "\n",
      "* The servicer has two options:\n",
      "\t+ Allow the shortage to exist without changing it.\n",
      "\t+ Require the borrower to repay the shortage in equal monthly payments over at least 12 months.\n",
      "\n",
      "Deficiency:\n",
      "\n",
      "* If a deficiency is found, the servicer can require the borrower to make additional deposits to eliminate the deficiency.\n",
      "* If the deficiency is less than one month's payment, the servicer has two options:\n",
      "\t+ Allow the deficiency to exist without changing it.\n",
      "\t+ Require the borrower to repay the deficiency in equal monthly payments over at least 12 months.\n",
      "\n",
      "Methods of escrow account analysis:\n",
      "\n",
      "* Aggregate analysis: The target balance may not exceed the calculated balance using specific arithmetic operations.\n"
     ]
    }
   ],
   "source": [
    "print(result_5)"
   ]
  },
  {
   "cell_type": "code",
   "execution_count": null,
   "metadata": {},
   "outputs": [],
   "source": []
  }
 ],
 "metadata": {
  "kernelspec": {
   "display_name": "crewai",
   "language": "python",
   "name": "python3"
  },
  "language_info": {
   "codemirror_mode": {
    "name": "ipython",
    "version": 3
   },
   "file_extension": ".py",
   "mimetype": "text/x-python",
   "name": "python",
   "nbconvert_exporter": "python",
   "pygments_lexer": "ipython3",
   "version": "3.11.9"
  }
 },
 "nbformat": 4,
 "nbformat_minor": 2
}
